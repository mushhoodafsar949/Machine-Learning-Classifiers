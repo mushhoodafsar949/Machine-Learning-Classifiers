{
  "nbformat": 4,
  "nbformat_minor": 0,
  "metadata": {
    "colab": {
      "name": "181130_180994_KNN.ipynb",
      "provenance": [],
      "collapsed_sections": []
    },
    "kernelspec": {
      "name": "python3",
      "display_name": "Python 3"
    },
    "language_info": {
      "name": "python"
    }
  },
  "cells": [
    {
      "cell_type": "markdown",
      "source": [
        "KNN "
      ],
      "metadata": {
        "id": "AED6s2iHG9Re"
      }
    },
    {
      "cell_type": "code",
      "execution_count": 1,
      "metadata": {
        "id": "YqqxwZCfCSNu"
      },
      "outputs": [],
      "source": [
        "import pandas as pd\n",
        "import numpy as np\n",
        "from sklearn.datasets import load_iris\n",
        "from sklearn.model_selection import train_test_split"
      ]
    },
    {
      "cell_type": "code",
      "source": [
        "iris = load_iris()\n",
        "X = iris.data\n",
        "y = iris.target\n",
        "feature_names = ['sepal_length', 'sepal_width','petal_length', 'petal_width']\n",
        "X = pd.DataFrame(X, columns=feature_names)\n",
        "X.head()\n",
        "y\n",
        "# splitting the data into train and test\n",
        "X_train, X_test, y_train, y_test = train_test_split(X, y,test_size=0.2)"
      ],
      "metadata": {
        "id": "6nqkutrgFh5y"
      },
      "execution_count": 30,
      "outputs": []
    },
    {
      "cell_type": "code",
      "source": [
        "from sklearn.neighbors import KNeighborsClassifier\n",
        "from sklearn import metrics\n",
        "# try running k=1 to 25 and test the accuracy\n",
        "k_range= range(1,15)\n",
        "scores={}\n",
        "scores_list=[]\n",
        "for k in k_range:\n",
        " knn = KNeighborsClassifier(n_neighbors=k)\n",
        " knn.fit(X_train, y_train)\n",
        " y_pred=knn.predict(X_test)\n",
        " scores[k] = metrics.accuracy_score(y_test,y_pred)\n",
        " scores_list.append(metrics.accuracy_score(y_test,y_pred))\n",
        " from sklearn.metrics import accuracy_score\n",
        "print (\"Accuracy : \", accuracy_score(y_test, y_pred))"
      ],
      "metadata": {
        "id": "Nn9_G_IbGMNQ",
        "colab": {
          "base_uri": "https://localhost:8080/"
        },
        "outputId": "29bfa97f-324b-4013-c2a6-57e56df3220b"
      },
      "execution_count": 31,
      "outputs": [
        {
          "output_type": "stream",
          "name": "stdout",
          "text": [
            "Accuracy :  0.9666666666666667\n"
          ]
        }
      ]
    },
    {
      "cell_type": "code",
      "source": [
        "%matplotlib inline\n",
        "import matplotlib.pyplot as plt\n",
        "# plot the relationship between K and accuracy\n",
        "plt.plot(k_range,scores_list)\n",
        "plt.xlabel(\"Value of k for KNN\")\n",
        "plt.ylabel(\"Testing Accuracy\")"
      ],
      "metadata": {
        "colab": {
          "base_uri": "https://localhost:8080/",
          "height": 296
        },
        "id": "-_h0RUneGXDu",
        "outputId": "6653bd9b-2ae7-48ca-806a-fe73c6e82c30"
      },
      "execution_count": 32,
      "outputs": [
        {
          "output_type": "execute_result",
          "data": {
            "text/plain": [
              "Text(0, 0.5, 'Testing Accuracy')"
            ]
          },
          "metadata": {},
          "execution_count": 32
        },
        {
          "output_type": "display_data",
          "data": {
            "text/plain": [
              "<Figure size 432x288 with 1 Axes>"
            ],
            "image/png": "[encoded data removed]"
          },
          "metadata": {
            "needs_background": "light"
          }
        }
      ]
    },
    {
      "cell_type": "markdown",
      "source": [
        ""
      ],
      "metadata": {
        "id": "J1qe_8s_G7Pv"
      }
    }
  ]
}